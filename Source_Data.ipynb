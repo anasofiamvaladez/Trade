{
 "cells": [
  {
   "cell_type": "markdown",
   "metadata": {},
   "source": [
    "### Import modules"
   ]
  },
  {
   "cell_type": "code",
   "execution_count": 1,
   "metadata": {},
   "outputs": [],
   "source": [
    "import json\n",
    "import pandas as pd\n",
    "import requests"
   ]
  },
  {
   "cell_type": "markdown",
   "metadata": {},
   "source": [
    "### Helpful functions"
   ]
  },
  {
   "cell_type": "code",
   "execution_count": 259,
   "metadata": {},
   "outputs": [],
   "source": [
    "def get_countries(code):\n",
    "    '''\n",
    "    Gets all the countries that export the product refered by a single code, \n",
    "    helpful to do the exact number of queries needed.\n",
    "    \n",
    "    Input: A code (string)\n",
    "    \n",
    "    Output: list of countries (integers)\n",
    "    '''\n",
    "    url = \"http://comtrade.un.org/api/get?max=500&type=C&freq=A&px=HS&ps=now&r=all&p=0&rg=2&cc=\" + str(code)\n",
    "    f = requests.get(url, timeout=300)\n",
    "    x = json.loads(f.text)\n",
    "    df_prueba = pd.DataFrame(x['dataset'])\n",
    "    df_prueba = df_prueba[['pfCode', 'period', 'aggrLevel', 'rgDesc', 'rtTitle', 'ptTitle', 'rtCode',\n",
    "                       'cmdCode', 'cmdDescE', 'TradeQuantity', 'TradeValue']]\n",
    "    paises = df_prueba['rtCode'].unique().tolist()\n",
    "    list_paises = [paises[i:i + 5] for i in range(0, len(paises), 5)]\n",
    "    return list_paises\n",
    "\n",
    "def query(url):\n",
    "    '''\n",
    "    Executes a single query from the UN Comtrade API, converts json object\n",
    "    into pandas dataframe.\n",
    "    \n",
    "    Input: A url (string)\n",
    "    \n",
    "    Output: Dataframe with the output of the query (pandas dataframe).\n",
    "    '''\n",
    "    f = requests.get(url, timeout=300)\n",
    "    x = json.loads(f.text)\n",
    "    df = pd.DataFrame(x['dataset'])\n",
    "    df = df[['pfCode', 'period', 'aggrLevel', 'rgDesc', 'rtTitle', 'ptTitle',\n",
    "                       'cmdCode', 'cmdDescE', 'TradeQuantity', 'TradeValue']]\n",
    "    return df"
   ]
  },
  {
   "cell_type": "markdown",
   "metadata": {},
   "source": [
    "Initialize dataframe called 'base'. Initialize lists (helpful to start at the place the last run ended, do not repeat, just run once) and load codes from csv in the directory."
   ]
  },
  {
   "cell_type": "code",
   "execution_count": 153,
   "metadata": {},
   "outputs": [],
   "source": [
    "data = []\n",
    "base = pd.DataFrame(data, columns=['pfCode', 'period', 'aggrLevel', 'rgDesc', 'rtTitle', 'ptTitle',\n",
    "                       'cmdCode', 'cmdDescE', 'TradeQuantity', 'TradeValue'])\n",
    "\n",
    "codes_all = pd.read_csv('codes.csv')\n",
    "codes_all = codes_all.astype(str)\n",
    "codes_all = codes_all['code'].to_list()\n",
    "lst_check, lst_code = [], [0,0]"
   ]
  },
  {
   "cell_type": "markdown",
   "metadata": {},
   "source": [
    "### Download data"
   ]
  },
  {
   "cell_type": "markdown",
   "metadata": {},
   "source": [
    "Repeat the next chunk until all the codes are covered, you can check this down by checking the base dataframe."
   ]
  },
  {
   "cell_type": "code",
   "execution_count": 503,
   "metadata": {},
   "outputs": [
    {
     "name": "stdout",
     "output_type": "stream",
     "text": [
      "853290\n",
      "http://comtrade.un.org/api/get?max=50000&type=C&freq=A&px=HS&ps=2020&r=616%2C620%2C642%2C688%2C699&p=all&rg=2&cc=853290\n",
      "http://comtrade.un.org/api/get?max=50000&type=C&freq=A&px=HS&ps=2020&r=616%2C620%2C642%2C688%2C699&p=all&rg=2&cc=853290 853290 853290616%2C620%2C642%2C688%2C699\n",
      "http://comtrade.un.org/api/get?max=50000&type=C&freq=A&px=HS&ps=2020&r=702%2C703%2C704%2C705%2C710&p=all&rg=2&cc=853290\n",
      "http://comtrade.un.org/api/get?max=50000&type=C&freq=A&px=HS&ps=2020&r=702%2C703%2C704%2C705%2C710&p=all&rg=2&cc=853290 853290 853290702%2C703%2C704%2C705%2C710\n",
      "http://comtrade.un.org/api/get?max=50000&type=C&freq=A&px=HS&ps=2020&r=724%2C752%2C757%2C764%2C792&p=all&rg=2&cc=853290\n",
      "http://comtrade.un.org/api/get?max=50000&type=C&freq=A&px=HS&ps=2020&r=724%2C752%2C757%2C764%2C792&p=all&rg=2&cc=853290 853290 853290724%2C752%2C757%2C764%2C792\n",
      "http://comtrade.un.org/api/get?max=50000&type=C&freq=A&px=HS&ps=2020&r=807%2C826%2C842%2C858%2C484&p=all&rg=2&cc=853290\n",
      "http://comtrade.un.org/api/get?max=50000&type=C&freq=A&px=HS&ps=2020&r=807%2C826%2C842%2C858%2C484&p=all&rg=2&cc=853290 853290 853290807%2C826%2C842%2C858%2C484\n",
      "854110\n",
      "http://comtrade.un.org/api/get?max=50000&type=C&freq=A&px=HS&ps=2020&r=31%2C32%2C36%2C40%2C51&p=all&rg=2&cc=854110\n",
      "http://comtrade.un.org/api/get?max=50000&type=C&freq=A&px=HS&ps=2020&r=31%2C32%2C36%2C40%2C51&p=all&rg=2&cc=854110 854110 85411031%2C32%2C36%2C40%2C51\n",
      "http://comtrade.un.org/api/get?max=50000&type=C&freq=A&px=HS&ps=2020&r=56%2C68%2C70%2C72%2C76&p=all&rg=2&cc=854110\n",
      "http://comtrade.un.org/api/get?max=50000&type=C&freq=A&px=HS&ps=2020&r=56%2C68%2C70%2C72%2C76&p=all&rg=2&cc=854110 854110 85411056%2C68%2C70%2C72%2C76\n",
      "http://comtrade.un.org/api/get?max=50000&type=C&freq=A&px=HS&ps=2020&r=124%2C144%2C156%2C191%2C196&p=all&rg=2&cc=854110\n",
      "http://comtrade.un.org/api/get?max=50000&type=C&freq=A&px=HS&ps=2020&r=124%2C144%2C156%2C191%2C196&p=all&rg=2&cc=854110 854110 854110124%2C144%2C156%2C191%2C196\n",
      "http://comtrade.un.org/api/get?max=50000&type=C&freq=A&px=HS&ps=2020&r=203%2C208%2C222%2C233%2C246&p=all&rg=2&cc=854110\n",
      "http://comtrade.un.org/api/get?max=50000&type=C&freq=A&px=HS&ps=2020&r=203%2C208%2C222%2C233%2C246&p=all&rg=2&cc=854110 854110 854110203%2C208%2C222%2C233%2C246\n",
      "http://comtrade.un.org/api/get?max=50000&type=C&freq=A&px=HS&ps=2020&r=251%2C276%2C300%2C320%2C344&p=all&rg=2&cc=854110\n",
      "http://comtrade.un.org/api/get?max=50000&type=C&freq=A&px=HS&ps=2020&r=251%2C276%2C300%2C320%2C344&p=all&rg=2&cc=854110 854110 854110251%2C276%2C300%2C320%2C344\n",
      "http://comtrade.un.org/api/get?max=50000&type=C&freq=A&px=HS&ps=2020&r=348%2C352%2C360%2C372%2C376&p=all&rg=2&cc=854110\n",
      "http://comtrade.un.org/api/get?max=50000&type=C&freq=A&px=HS&ps=2020&r=348%2C352%2C360%2C372%2C376&p=all&rg=2&cc=854110 854110 854110348%2C352%2C360%2C372%2C376\n",
      "http://comtrade.un.org/api/get?max=50000&type=C&freq=A&px=HS&ps=2020&r=381%2C392%2C404%2C410%2C417&p=all&rg=2&cc=854110\n",
      "http://comtrade.un.org/api/get?max=50000&type=C&freq=A&px=HS&ps=2020&r=381%2C392%2C404%2C410%2C417&p=all&rg=2&cc=854110 854110 854110381%2C392%2C404%2C410%2C417\n",
      "http://comtrade.un.org/api/get?max=50000&type=C&freq=A&px=HS&ps=2020&r=422%2C428%2C440%2C442%2C458&p=all&rg=2&cc=854110\n",
      "http://comtrade.un.org/api/get?max=50000&type=C&freq=A&px=HS&ps=2020&r=422%2C428%2C440%2C442%2C458&p=all&rg=2&cc=854110 854110 854110422%2C428%2C440%2C442%2C458\n",
      "http://comtrade.un.org/api/get?max=50000&type=C&freq=A&px=HS&ps=2020&r=490%2C498%2C516%2C528%2C554&p=all&rg=2&cc=854110\n",
      "http://comtrade.un.org/api/get?max=50000&type=C&freq=A&px=HS&ps=2020&r=490%2C498%2C516%2C528%2C554&p=all&rg=2&cc=854110 854110 854110490%2C498%2C516%2C528%2C554\n",
      "http://comtrade.un.org/api/get?max=50000&type=C&freq=A&px=HS&ps=2020&r=579%2C586%2C616%2C620%2C642&p=all&rg=2&cc=854110\n",
      "http://comtrade.un.org/api/get?max=50000&type=C&freq=A&px=HS&ps=2020&r=579%2C586%2C616%2C620%2C642&p=all&rg=2&cc=854110 854110 854110579%2C586%2C616%2C620%2C642\n",
      "http://comtrade.un.org/api/get?max=50000&type=C&freq=A&px=HS&ps=2020&r=688%2C699%2C702%2C703%2C704&p=all&rg=2&cc=854110\n",
      "http://comtrade.un.org/api/get?max=50000&type=C&freq=A&px=HS&ps=2020&r=688%2C699%2C702%2C703%2C704&p=all&rg=2&cc=854110 854110 854110688%2C699%2C702%2C703%2C704\n",
      "http://comtrade.un.org/api/get?max=50000&type=C&freq=A&px=HS&ps=2020&r=705%2C710%2C716%2C724%2C752&p=all&rg=2&cc=854110\n",
      "http://comtrade.un.org/api/get?max=50000&type=C&freq=A&px=HS&ps=2020&r=705%2C710%2C716%2C724%2C752&p=all&rg=2&cc=854110 854110 854110705%2C710%2C716%2C724%2C752\n",
      "http://comtrade.un.org/api/get?max=50000&type=C&freq=A&px=HS&ps=2020&r=757%2C764%2C792%2C800%2C804&p=all&rg=2&cc=854110\n",
      "http://comtrade.un.org/api/get?max=50000&type=C&freq=A&px=HS&ps=2020&r=757%2C764%2C792%2C800%2C804&p=all&rg=2&cc=854110 854110 854110757%2C764%2C792%2C800%2C804\n",
      "http://comtrade.un.org/api/get?max=50000&type=C&freq=A&px=HS&ps=2020&r=807%2C826%2C842%2C858%2C860&p=all&rg=2&cc=854110\n",
      "http://comtrade.un.org/api/get?max=50000&type=C&freq=A&px=HS&ps=2020&r=807%2C826%2C842%2C858%2C860&p=all&rg=2&cc=854110 854110 854110807%2C826%2C842%2C858%2C860\n",
      "http://comtrade.un.org/api/get?max=50000&type=C&freq=A&px=HS&ps=2020&r=894%2C268%2C308%2C484%2C818&p=all&rg=2&cc=854110\n",
      "http://comtrade.un.org/api/get?max=50000&type=C&freq=A&px=HS&ps=2020&r=894%2C268%2C308%2C484%2C818&p=all&rg=2&cc=854110 854110 854110894%2C268%2C308%2C484%2C818\n",
      "854150\n",
      "http://comtrade.un.org/api/get?max=50000&type=C&freq=A&px=HS&ps=2020&r=31%2C36%2C40%2C56%2C70&p=all&rg=2&cc=854150\n",
      "http://comtrade.un.org/api/get?max=50000&type=C&freq=A&px=HS&ps=2020&r=31%2C36%2C40%2C56%2C70&p=all&rg=2&cc=854150 854150 85415031%2C36%2C40%2C56%2C70\n",
      "http://comtrade.un.org/api/get?max=50000&type=C&freq=A&px=HS&ps=2020&r=72%2C76%2C124%2C144%2C156&p=all&rg=2&cc=854150\n",
      "http://comtrade.un.org/api/get?max=50000&type=C&freq=A&px=HS&ps=2020&r=72%2C76%2C124%2C144%2C156&p=all&rg=2&cc=854150 854150 85415072%2C76%2C124%2C144%2C156\n",
      "http://comtrade.un.org/api/get?max=50000&type=C&freq=A&px=HS&ps=2020&r=191%2C203%2C208%2C233%2C246&p=all&rg=2&cc=854150\n",
      "http://comtrade.un.org/api/get?max=50000&type=C&freq=A&px=HS&ps=2020&r=191%2C203%2C208%2C233%2C246&p=all&rg=2&cc=854150 854150 854150191%2C203%2C208%2C233%2C246\n",
      "http://comtrade.un.org/api/get?max=50000&type=C&freq=A&px=HS&ps=2020&r=251%2C276%2C300%2C320%2C344&p=all&rg=2&cc=854150\n",
      "http://comtrade.un.org/api/get?max=50000&type=C&freq=A&px=HS&ps=2020&r=251%2C276%2C300%2C320%2C344&p=all&rg=2&cc=854150 854150 854150251%2C276%2C300%2C320%2C344\n",
      "http://comtrade.un.org/api/get?max=50000&type=C&freq=A&px=HS&ps=2020&r=348%2C352%2C360%2C372%2C376&p=all&rg=2&cc=854150\n",
      "http://comtrade.un.org/api/get?max=50000&type=C&freq=A&px=HS&ps=2020&r=348%2C352%2C360%2C372%2C376&p=all&rg=2&cc=854150 854150 854150348%2C352%2C360%2C372%2C376\n",
      "http://comtrade.un.org/api/get?max=50000&type=C&freq=A&px=HS&ps=2020&r=381%2C392%2C404%2C410%2C428&p=all&rg=2&cc=854150\n",
      "http://comtrade.un.org/api/get?max=50000&type=C&freq=A&px=HS&ps=2020&r=381%2C392%2C404%2C410%2C428&p=all&rg=2&cc=854150 854150 854150381%2C392%2C404%2C410%2C428\n",
      "http://comtrade.un.org/api/get?max=50000&type=C&freq=A&px=HS&ps=2020&r=440%2C442%2C458%2C490%2C516&p=all&rg=2&cc=854150\n",
      "http://comtrade.un.org/api/get?max=50000&type=C&freq=A&px=HS&ps=2020&r=440%2C442%2C458%2C490%2C516&p=all&rg=2&cc=854150 854150 854150440%2C442%2C458%2C490%2C516\n",
      "http://comtrade.un.org/api/get?max=50000&type=C&freq=A&px=HS&ps=2020&r=528%2C554%2C579%2C586%2C616&p=all&rg=2&cc=854150\n",
      "http://comtrade.un.org/api/get?max=50000&type=C&freq=A&px=HS&ps=2020&r=528%2C554%2C579%2C586%2C616&p=all&rg=2&cc=854150 854150 854150528%2C554%2C579%2C586%2C616\n",
      "http://comtrade.un.org/api/get?max=50000&type=C&freq=A&px=HS&ps=2020&r=620%2C642%2C688%2C699%2C702&p=all&rg=2&cc=854150\n",
      "http://comtrade.un.org/api/get?max=50000&type=C&freq=A&px=HS&ps=2020&r=620%2C642%2C688%2C699%2C702&p=all&rg=2&cc=854150 854150 854150620%2C642%2C688%2C699%2C702\n",
      "http://comtrade.un.org/api/get?max=50000&type=C&freq=A&px=HS&ps=2020&r=703%2C704%2C705%2C710%2C724&p=all&rg=2&cc=854150\n",
      "http://comtrade.un.org/api/get?max=50000&type=C&freq=A&px=HS&ps=2020&r=703%2C704%2C705%2C710%2C724&p=all&rg=2&cc=854150 854150 854150703%2C704%2C705%2C710%2C724\n",
      "http://comtrade.un.org/api/get?max=50000&type=C&freq=A&px=HS&ps=2020&r=752%2C757%2C764%2C792%2C804&p=all&rg=2&cc=854150\n"
     ]
    },
    {
     "name": "stdout",
     "output_type": "stream",
     "text": [
      "http://comtrade.un.org/api/get?max=50000&type=C&freq=A&px=HS&ps=2020&r=752%2C757%2C764%2C792%2C804&p=all&rg=2&cc=854150 854150 854150752%2C757%2C764%2C792%2C804\n",
      "http://comtrade.un.org/api/get?max=50000&type=C&freq=A&px=HS&ps=2020&r=807%2C826%2C842%2C858%2C268&p=all&rg=2&cc=854150\n",
      "http://comtrade.un.org/api/get?max=50000&type=C&freq=A&px=HS&ps=2020&r=807%2C826%2C842%2C858%2C268&p=all&rg=2&cc=854150 854150 854150807%2C826%2C842%2C858%2C268\n",
      "http://comtrade.un.org/api/get?max=50000&type=C&freq=A&px=HS&ps=2020&r=484%2C818&p=all&rg=2&cc=854150\n",
      "http://comtrade.un.org/api/get?max=50000&type=C&freq=A&px=HS&ps=2020&r=484%2C818&p=all&rg=2&cc=854150 854150 854150484%2C818\n",
      "851890\n",
      "http://comtrade.un.org/api/get?max=50000&type=C&freq=A&px=HS&ps=2020&r=36%2C40%2C51%2C52%2C56&p=all&rg=2&cc=851890\n",
      "http://comtrade.un.org/api/get?max=50000&type=C&freq=A&px=HS&ps=2020&r=36%2C40%2C51%2C52%2C56&p=all&rg=2&cc=851890 851890 85189036%2C40%2C51%2C52%2C56\n",
      "http://comtrade.un.org/api/get?max=50000&type=C&freq=A&px=HS&ps=2020&r=70%2C72%2C76%2C104%2C124&p=all&rg=2&cc=851890\n",
      "http://comtrade.un.org/api/get?max=50000&type=C&freq=A&px=HS&ps=2020&r=70%2C72%2C76%2C104%2C124&p=all&rg=2&cc=851890 851890 85189070%2C72%2C76%2C104%2C124\n",
      "http://comtrade.un.org/api/get?max=50000&type=C&freq=A&px=HS&ps=2020&r=144%2C156%2C191%2C196%2C203&p=all&rg=2&cc=851890\n",
      "http://comtrade.un.org/api/get?max=50000&type=C&freq=A&px=HS&ps=2020&r=144%2C156%2C191%2C196%2C203&p=all&rg=2&cc=851890 851890 851890144%2C156%2C191%2C196%2C203\n",
      "http://comtrade.un.org/api/get?max=50000&type=C&freq=A&px=HS&ps=2020&r=208%2C222%2C233%2C246%2C251&p=all&rg=2&cc=851890\n",
      "http://comtrade.un.org/api/get?max=50000&type=C&freq=A&px=HS&ps=2020&r=208%2C222%2C233%2C246%2C251&p=all&rg=2&cc=851890 851890 851890208%2C222%2C233%2C246%2C251\n",
      "http://comtrade.un.org/api/get?max=50000&type=C&freq=A&px=HS&ps=2020&r=276%2C300%2C320%2C344%2C348&p=all&rg=2&cc=851890\n",
      "http://comtrade.un.org/api/get?max=50000&type=C&freq=A&px=HS&ps=2020&r=276%2C300%2C320%2C344%2C348&p=all&rg=2&cc=851890 851890 851890276%2C300%2C320%2C344%2C348\n",
      "http://comtrade.un.org/api/get?max=50000&type=C&freq=A&px=HS&ps=2020&r=352%2C360%2C372%2C376%2C381&p=all&rg=2&cc=851890\n",
      "http://comtrade.un.org/api/get?max=50000&type=C&freq=A&px=HS&ps=2020&r=352%2C360%2C372%2C376%2C381&p=all&rg=2&cc=851890 851890 851890352%2C360%2C372%2C376%2C381\n",
      "http://comtrade.un.org/api/get?max=50000&type=C&freq=A&px=HS&ps=2020&r=392%2C400%2C404%2C410%2C422&p=all&rg=2&cc=851890\n",
      "http://comtrade.un.org/api/get?max=50000&type=C&freq=A&px=HS&ps=2020&r=392%2C400%2C404%2C410%2C422&p=all&rg=2&cc=851890 851890 851890392%2C400%2C404%2C410%2C422\n",
      "http://comtrade.un.org/api/get?max=50000&type=C&freq=A&px=HS&ps=2020&r=428%2C440%2C442%2C458%2C480&p=all&rg=2&cc=851890\n",
      "http://comtrade.un.org/api/get?max=50000&type=C&freq=A&px=HS&ps=2020&r=428%2C440%2C442%2C458%2C480&p=all&rg=2&cc=851890 851890 851890428%2C440%2C442%2C458%2C480\n",
      "http://comtrade.un.org/api/get?max=50000&type=C&freq=A&px=HS&ps=2020&r=490%2C498%2C499%2C516%2C528&p=all&rg=2&cc=851890\n",
      "http://comtrade.un.org/api/get?max=50000&type=C&freq=A&px=HS&ps=2020&r=490%2C498%2C499%2C516%2C528&p=all&rg=2&cc=851890 851890 851890490%2C498%2C499%2C516%2C528\n",
      "http://comtrade.un.org/api/get?max=50000&type=C&freq=A&px=HS&ps=2020&r=554%2C579%2C586%2C616%2C620&p=all&rg=2&cc=851890\n",
      "http://comtrade.un.org/api/get?max=50000&type=C&freq=A&px=HS&ps=2020&r=554%2C579%2C586%2C616%2C620&p=all&rg=2&cc=851890 851890 851890554%2C579%2C586%2C616%2C620\n",
      "http://comtrade.un.org/api/get?max=50000&type=C&freq=A&px=HS&ps=2020&r=642%2C686%2C688%2C699%2C702&p=all&rg=2&cc=851890\n",
      "http://comtrade.un.org/api/get?max=50000&type=C&freq=A&px=HS&ps=2020&r=642%2C686%2C688%2C699%2C702&p=all&rg=2&cc=851890 851890 851890642%2C686%2C688%2C699%2C702\n",
      "http://comtrade.un.org/api/get?max=50000&type=C&freq=A&px=HS&ps=2020&r=703%2C704%2C705%2C710%2C724&p=all&rg=2&cc=851890\n",
      "http://comtrade.un.org/api/get?max=50000&type=C&freq=A&px=HS&ps=2020&r=703%2C704%2C705%2C710%2C724&p=all&rg=2&cc=851890 851890 851890703%2C704%2C705%2C710%2C724\n",
      "http://comtrade.un.org/api/get?max=50000&type=C&freq=A&px=HS&ps=2020&r=752%2C757%2C764%2C792%2C800&p=all&rg=2&cc=851890\n",
      "http://comtrade.un.org/api/get?max=50000&type=C&freq=A&px=HS&ps=2020&r=752%2C757%2C764%2C792%2C800&p=all&rg=2&cc=851890 851890 851890752%2C757%2C764%2C792%2C800\n",
      "http://comtrade.un.org/api/get?max=50000&type=C&freq=A&px=HS&ps=2020&r=804%2C807%2C826%2C842%2C858&p=all&rg=2&cc=851890\n",
      "http://comtrade.un.org/api/get?max=50000&type=C&freq=A&px=HS&ps=2020&r=804%2C807%2C826%2C842%2C858&p=all&rg=2&cc=851890 851890 851890804%2C807%2C826%2C842%2C858\n",
      "http://comtrade.un.org/api/get?max=50000&type=C&freq=A&px=HS&ps=2020&r=860%2C894%2C484%2C533%2C818&p=all&rg=2&cc=851890\n",
      "http://comtrade.un.org/api/get?max=50000&type=C&freq=A&px=HS&ps=2020&r=860%2C894%2C484%2C533%2C818&p=all&rg=2&cc=851890 851890 851890860%2C894%2C484%2C533%2C818\n",
      "854012\n",
      "http://comtrade.un.org/api/get?max=50000&type=C&freq=A&px=HS&ps=2020&r=56%2C156%2C203%2C208%2C233&p=all&rg=2&cc=854012\n",
      "http://comtrade.un.org/api/get?max=50000&type=C&freq=A&px=HS&ps=2020&r=56%2C156%2C203%2C208%2C233&p=all&rg=2&cc=854012 854012 85401256%2C156%2C203%2C208%2C233\n",
      "http://comtrade.un.org/api/get?max=50000&type=C&freq=A&px=HS&ps=2020&r=251%2C276%2C381%2C410%2C442&p=all&rg=2&cc=854012\n",
      "http://comtrade.un.org/api/get?max=50000&type=C&freq=A&px=HS&ps=2020&r=251%2C276%2C381%2C410%2C442&p=all&rg=2&cc=854012 854012 854012251%2C276%2C381%2C410%2C442\n",
      "http://comtrade.un.org/api/get?max=50000&type=C&freq=A&px=HS&ps=2020&r=490%2C528%2C620%2C702%2C710&p=all&rg=2&cc=854012\n",
      "http://comtrade.un.org/api/get?max=50000&type=C&freq=A&px=HS&ps=2020&r=490%2C528%2C620%2C702%2C710&p=all&rg=2&cc=854012 854012 854012490%2C528%2C620%2C702%2C710\n",
      "http://comtrade.un.org/api/get?max=50000&type=C&freq=A&px=HS&ps=2020&r=724%2C752%2C764%2C792%2C800&p=all&rg=2&cc=854012\n",
      "http://comtrade.un.org/api/get?max=50000&type=C&freq=A&px=HS&ps=2020&r=724%2C752%2C764%2C792%2C800&p=all&rg=2&cc=854012 854012 854012724%2C752%2C764%2C792%2C800\n",
      "http://comtrade.un.org/api/get?max=50000&type=C&freq=A&px=HS&ps=2020&r=826%2C842&p=all&rg=2&cc=854012\n",
      "http://comtrade.un.org/api/get?max=50000&type=C&freq=A&px=HS&ps=2020&r=826%2C842&p=all&rg=2&cc=854012 854012 854012826%2C842\n",
      "903082\n",
      "http://comtrade.un.org/api/get?max=50000&type=C&freq=A&px=HS&ps=2020&r=36%2C40%2C56%2C68%2C76&p=all&rg=2&cc=903082\n",
      "http://comtrade.un.org/api/get?max=50000&type=C&freq=A&px=HS&ps=2020&r=36%2C40%2C56%2C68%2C76&p=all&rg=2&cc=903082 903082 90308236%2C40%2C56%2C68%2C76\n",
      "http://comtrade.un.org/api/get?max=50000&type=C&freq=A&px=HS&ps=2020&r=124%2C144%2C156%2C203%2C208&p=all&rg=2&cc=903082\n",
      "http://comtrade.un.org/api/get?max=50000&type=C&freq=A&px=HS&ps=2020&r=124%2C144%2C156%2C203%2C208&p=all&rg=2&cc=903082 903082 903082124%2C144%2C156%2C203%2C208\n",
      "http://comtrade.un.org/api/get?max=50000&type=C&freq=A&px=HS&ps=2020&r=222%2C233%2C246%2C251%2C276&p=all&rg=2&cc=903082\n",
      "http://comtrade.un.org/api/get?max=50000&type=C&freq=A&px=HS&ps=2020&r=222%2C233%2C246%2C251%2C276&p=all&rg=2&cc=903082 903082 903082222%2C233%2C246%2C251%2C276\n",
      "http://comtrade.un.org/api/get?max=50000&type=C&freq=A&px=HS&ps=2020&r=300%2C344%2C348%2C352%2C360&p=all&rg=2&cc=903082\n",
      "http://comtrade.un.org/api/get?max=50000&type=C&freq=A&px=HS&ps=2020&r=300%2C344%2C348%2C352%2C360&p=all&rg=2&cc=903082 903082 903082300%2C344%2C348%2C352%2C360\n",
      "http://comtrade.un.org/api/get?max=50000&type=C&freq=A&px=HS&ps=2020&r=372%2C376%2C381%2C392%2C410&p=all&rg=2&cc=903082\n",
      "http://comtrade.un.org/api/get?max=50000&type=C&freq=A&px=HS&ps=2020&r=372%2C376%2C381%2C392%2C410&p=all&rg=2&cc=903082 903082 903082372%2C376%2C381%2C392%2C410\n",
      "http://comtrade.un.org/api/get?max=50000&type=C&freq=A&px=HS&ps=2020&r=428%2C440%2C442%2C458%2C490&p=all&rg=2&cc=903082\n",
      "http://comtrade.un.org/api/get?max=50000&type=C&freq=A&px=HS&ps=2020&r=428%2C440%2C442%2C458%2C490&p=all&rg=2&cc=903082 903082 903082428%2C440%2C442%2C458%2C490\n",
      "http://comtrade.un.org/api/get?max=50000&type=C&freq=A&px=HS&ps=2020&r=516%2C528%2C554%2C579%2C616&p=all&rg=2&cc=903082\n",
      "http://comtrade.un.org/api/get?max=50000&type=C&freq=A&px=HS&ps=2020&r=516%2C528%2C554%2C579%2C616&p=all&rg=2&cc=903082 903082 903082516%2C528%2C554%2C579%2C616\n",
      "http://comtrade.un.org/api/get?max=50000&type=C&freq=A&px=HS&ps=2020&r=620%2C642%2C688%2C699%2C702&p=all&rg=2&cc=903082\n"
     ]
    },
    {
     "name": "stdout",
     "output_type": "stream",
     "text": [
      "http://comtrade.un.org/api/get?max=50000&type=C&freq=A&px=HS&ps=2020&r=620%2C642%2C688%2C699%2C702&p=all&rg=2&cc=903082 903082 903082620%2C642%2C688%2C699%2C702\n",
      "http://comtrade.un.org/api/get?max=50000&type=C&freq=A&px=HS&ps=2020&r=703%2C704%2C705%2C710%2C724&p=all&rg=2&cc=903082\n",
      "http://comtrade.un.org/api/get?max=50000&type=C&freq=A&px=HS&ps=2020&r=703%2C704%2C705%2C710%2C724&p=all&rg=2&cc=903082 903082 903082703%2C704%2C705%2C710%2C724\n",
      "http://comtrade.un.org/api/get?max=50000&type=C&freq=A&px=HS&ps=2020&r=752%2C757%2C764%2C792%2C804&p=all&rg=2&cc=903082\n",
      "http://comtrade.un.org/api/get?max=50000&type=C&freq=A&px=HS&ps=2020&r=752%2C757%2C764%2C792%2C804&p=all&rg=2&cc=903082 903082 903082752%2C757%2C764%2C792%2C804\n",
      "http://comtrade.un.org/api/get?max=50000&type=C&freq=A&px=HS&ps=2020&r=807%2C826%2C842%2C484%2C818&p=all&rg=2&cc=903082\n",
      "http://comtrade.un.org/api/get?max=50000&type=C&freq=A&px=HS&ps=2020&r=807%2C826%2C842%2C484%2C818&p=all&rg=2&cc=903082 903082 903082807%2C826%2C842%2C484%2C818\n"
     ]
    }
   ],
   "source": [
    "for cod in codes_all:\n",
    "    if cod not in lst_code:\n",
    "        print(cod)\n",
    "        for sublist in get_countries(cod):\n",
    "            string = '' + str(sublist[0])\n",
    "            for con in sublist[1:]:\n",
    "                string = string + '%2C' + str(con)\n",
    "            comb = str(cod) + str(string)\n",
    "            if comb not in lst_check:\n",
    "                url = \"http://comtrade.un.org/api/get?max=50000&type=C&freq=A&px=HS&ps=2020&r=\" + str(string) + \"&p=all&rg=2&cc=\" + str(cod)\n",
    "                print(url)\n",
    "                row = query(url)\n",
    "                base = pd.concat([base, row])\n",
    "                lst_check.append(comb)\n",
    "                print(url, cod, comb)\n",
    "        lst_code.append(cod)"
   ]
  },
  {
   "cell_type": "markdown",
   "metadata": {},
   "source": [
    "Save to a csv just to have a back-up between runs of the code."
   ]
  },
  {
   "cell_type": "code",
   "execution_count": 504,
   "metadata": {},
   "outputs": [],
   "source": [
    "base.to_csv (r'base.csv', index = False, header=True)\n",
    "base"
   ]
  },
  {
   "cell_type": "markdown",
   "metadata": {},
   "source": [
    "### Add stage of the value chain and save in a csv."
   ]
  },
  {
   "cell_type": "code",
   "execution_count": 19,
   "metadata": {},
   "outputs": [],
   "source": [
    "#Pedro's file\n",
    "stages = pd.read_excel (r'Fracciones supply chains SC EV.xlsx', sheet_name='Semiconductors')\n",
    "stages.rename(columns = {'HT6 Code':'cmdCode'}, inplace = True)\n",
    "stages[\"cmdCode\"] = stages[\"cmdCode\"].astype('str')\n",
    "base[\"cmdCode\"] = base[\"cmdCode\"].astype('str')\n",
    "\n",
    "#Vlook up of phases provided and main base with HT6 Codes\n",
    "final_df  = pd.merge(base, stages, on ='cmdCode', how ='left')\n",
    "final_df = final_df[[\"pfCode\", \"period\", \"aggrLevel\", \"rgDesc\", \"rtTitle\", \"ptTitle\", \"cmdCode\",\n",
    "                     \"cmdDescE\", \"Naic_descrip\", \"TradeQuantity\", \"TradeValue\", \"PHASE\", \"COMPLEXITY\"]]\n",
    "final_df.rename(columns = {'rtTitle':'From', 'ptTitle':'To'}, inplace = True)\n",
    "\n",
    "#Print in a csv called final_df\n",
    "final_df.to_csv (r'db_trade_f.csv', index = False, header=True)"
   ]
  },
  {
   "cell_type": "code",
   "execution_count": null,
   "metadata": {},
   "outputs": [],
   "source": []
  }
 ],
 "metadata": {
  "kernelspec": {
   "display_name": "Python 3",
   "language": "python",
   "name": "python3"
  },
  "language_info": {
   "codemirror_mode": {
    "name": "ipython",
    "version": 3
   },
   "file_extension": ".py",
   "mimetype": "text/x-python",
   "name": "python",
   "nbconvert_exporter": "python",
   "pygments_lexer": "ipython3",
   "version": "3.8.5"
  }
 },
 "nbformat": 4,
 "nbformat_minor": 4
}
